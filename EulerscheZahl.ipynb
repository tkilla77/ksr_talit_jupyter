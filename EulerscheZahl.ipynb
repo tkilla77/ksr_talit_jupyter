{
 "cells": [
  {
   "cell_type": "markdown",
   "metadata": {},
   "source": [
    "# Eulersche Zahl als Reihe\n",
    "\n",
    "Wir approximieren die Eulersche Zahl $e$ als Reihe:\n",
    "\n",
    "$$e = 1 + \\frac{1}{1} + \\frac{1}{1 \\cdot 2} + \\frac{1}{1 \\cdot 2 \\cdot 3} + \\frac{1}{1 \\cdot 2 \\cdot 3 \\cdot 4} + \\dotsb = \\sum_{k=0}^{\\infty}{\\frac{1}{k!}}$$"
   ]
  },
  {
   "cell_type": "code",
   "execution_count": 4,
   "metadata": {},
   "outputs": [
    {
     "name": "stdout",
     "output_type": "stream",
     "text": [
      "2.71827876984127\n"
     ]
    }
   ],
   "source": [
    "def approximate_e(n=10):\n",
    "    factorial = 1\n",
    "    res = 0\n",
    "    for i in range(1, n):\n",
    "        res += 1/factorial\n",
    "        factorial *= i\n",
    "    return res\n",
    "\n",
    "print(approximate_e())"
   ]
  },
  {
   "cell_type": "markdown",
   "metadata": {},
   "source": [
    "### Wie genau wird das?"
   ]
  },
  {
   "cell_type": "code",
   "execution_count": 7,
   "metadata": {},
   "outputs": [
    {
     "name": "stdout",
     "output_type": "stream",
     "text": [
      " 2: 1.0                    error: 1.71828182845904509080 (63.212%)\n",
      " 3: 2.0                    error: 0.71828182845904509080 (26.424%)\n",
      " 4: 2.5                    error: 0.21828182845904509080 ( 8.030%)\n",
      " 5: 2.6666666666666665186  error: 0.05161516179237857216 ( 1.899%)\n",
      " 6: 2.7083333333333330373  error: 0.00994849512571205352 ( 0.366%)\n",
      " 7: 2.716666666666666341   error: 0.00161516179237874979 ( 0.059%)\n",
      " 8: 2.718055555555555447   error: 0.00022627290348964380 ( 0.008%)\n",
      " 9: 2.7182539682539683668  error: 0.00002786020507672404 ( 0.001%)\n",
      "10: 2.7182787698412700372  error: 0.00000305861777505356 ( 0.000%)\n",
      "11: 2.7182815255731922477  error: 0.00000030288585284310 ( 0.000%)\n",
      "12: 2.7182818011463845131  error: 0.00000002731266057765 ( 0.000%)\n",
      "13: 2.7182818261984929009  error: 0.00000000226055218988 ( 0.000%)\n",
      "14: 2.7182818282861687109  error: 0.00000000017287637988 ( 0.000%)\n",
      "15: 2.7182818284467593628  error: 0.00000000001228572799 ( 0.000%)\n",
      "16: 2.7182818284582301871  error: 0.00000000000081490370 ( 0.000%)\n",
      "17: 2.7182818284589949087  error: 0.00000000000005018208 ( 0.000%)\n",
      "18: 2.7182818284590428703  error: 0.00000000000000222045 ( 0.000%)\n",
      "19: 2.7182818284590455349  error: 0.00000000000000044409 ( 0.000%)\n",
      "20: 2.7182818284590455349  error: 0.00000000000000044409 ( 0.000%)\n"
     ]
    }
   ],
   "source": [
    "import math\n",
    "for n in range(2, 21):\n",
    "    e = approximate_e(n)\n",
    "    error = abs(math.e - e)\n",
    "    print(f'{n:2}: {e:<22.20} error: {error:.20f} ({error/math.e:7.3%})')"
   ]
  },
  {
   "cell_type": "markdown",
   "metadata": {},
   "source": [
    "Cool, mit 20 Iterationen haben wir bereits die Genauigkeitsgreze einer [64-bit Floating Point Number](https://en.wikipedia.org/wiki/Double-precision_floating-point_format) erreicht."
   ]
  }
 ],
 "metadata": {
  "kernelspec": {
   "display_name": "base",
   "language": "python",
   "name": "python3"
  },
  "language_info": {
   "codemirror_mode": {
    "name": "ipython",
    "version": 3
   },
   "file_extension": ".py",
   "mimetype": "text/x-python",
   "name": "python",
   "nbconvert_exporter": "python",
   "pygments_lexer": "ipython3",
   "version": "3.11.7"
  }
 },
 "nbformat": 4,
 "nbformat_minor": 2
}
