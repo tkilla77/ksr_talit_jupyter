{
 "cells": [
  {
   "cell_type": "markdown",
   "metadata": {},
   "source": [
    "# Markdown Tutorial (Titel)\n",
    "\n",
    "## Basics\n",
    "\n",
    "Ich möchte *kursiv*, **fett** oder ***beides*** schreiben. [Link](https://de.wikipedia.org/wiki/Markdown).\n",
    "\n",
    "## Aufzählungen\n",
    "\n",
    "### Unnummeriert\n",
    "  * und eine\n",
    "  * Aufzählung\n",
    "\n",
    "### Nummeriert\n",
    "1. Eins\n",
    "1. Zwei\n",
    "1. Drei\n",
    "\n",
    "## Formeln\n",
    "\n",
    "Lineare Funktion:\n",
    "$$f(x) = m\\cdot x + b$$\n",
    "\n",
    "Geht auch direkt im Fliesstext: $a^2 + b^2 = c^2$\n",
    "\n",
    "Brüche in der Mathe wie $\\frac{\\pi^2}{6}$ sind besser als Beinbrüche."
   ]
  }
 ],
 "metadata": {
  "language_info": {
   "name": "python"
  }
 },
 "nbformat": 4,
 "nbformat_minor": 2
}
