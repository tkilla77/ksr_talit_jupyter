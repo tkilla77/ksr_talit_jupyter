{
 "cells": [
  {
   "cell_type": "code",
   "execution_count": 18,
   "metadata": {},
   "outputs": [
    {
     "name": "stdout",
     "output_type": "stream",
     "text": [
      "|  PLZ  |         Ort          | Bevölkerung  |  Fläche  |\n",
      "|  9322 | Egnach               |         4897 |    18.43 |\n",
      "|  8590 | Romanshorn           |        11556 |     8.73 |\n",
      "|  8570 | Weinfelden           |        11893 |    15.48 |\n"
     ]
    }
   ],
   "source": [
    "ortschaften = ['Egnach', 'Romanshorn', 'Weinfelden']\n",
    "postleitzahlen = [9322, 8590, 8570]\n",
    "population = [4897, 11556, 11893]\n",
    "area = [18.43, 8.73, 15.48]\n",
    "\n",
    "print(f'| {\"PLZ\":^5} | {\"Ort\":^20} | {\"Bevölkerung\":^12} | {\"Fläche\":^8} |')\n",
    "for ort, plz, pop, ar in zip(ortschaften, postleitzahlen, population, area):\n",
    "    print(f'| {plz:5} | {ort:<20} | {pop:12} | {ar:8} |')\n"
   ]
  }
 ],
 "metadata": {
  "kernelspec": {
   "display_name": "base",
   "language": "python",
   "name": "python3"
  },
  "language_info": {
   "codemirror_mode": {
    "name": "ipython",
    "version": 3
   },
   "file_extension": ".py",
   "mimetype": "text/x-python",
   "name": "python",
   "nbconvert_exporter": "python",
   "pygments_lexer": "ipython3",
   "version": "3.11.7"
  }
 },
 "nbformat": 4,
 "nbformat_minor": 2
}
