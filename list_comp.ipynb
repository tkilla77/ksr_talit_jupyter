{
 "cells": [
  {
   "cell_type": "markdown",
   "id": "d7ef0879",
   "metadata": {
    "slideshow": {
     "slide_type": "slide"
    }
   },
   "source": [
    "# List Comprehensions\n",
    "\n",
    "[List Comprehensions auf docs.python.org](https://docs.python.org/3/tutorial/datastructures.html#list-comprehensions)\n",
    "\n",
    "List comprehensions provide a concise way to create lists. Common applications are to make new lists where each element is the result of some operations applied to each member of another sequence or iterable, or to create a subsequence of those elements that satisfy a certain condition."
   ]
  },
  {
   "cell_type": "markdown",
   "id": "5d43eebb",
   "metadata": {
    "slideshow": {
     "slide_type": "slide"
    }
   },
   "source": [
    "#### Example"
   ]
  },
  {
   "cell_type": "code",
   "execution_count": 31,
   "id": "e19922de",
   "metadata": {
    "slideshow": {
     "slide_type": "slide"
    }
   },
   "outputs": [
    {
     "data": {
      "text/plain": [
       "[0, 1, 4, 9, 16, 25, 36, 49, 64, 81]"
      ]
     },
     "execution_count": 31,
     "metadata": {},
     "output_type": "execute_result"
    }
   ],
   "source": [
    "squares = []\n",
    "for x in range(10):\n",
    "    squares.append(x**2)\n",
    "\n",
    "squares"
   ]
  },
  {
   "cell_type": "markdown",
   "id": "3e883768",
   "metadata": {
    "slideshow": {
     "slide_type": "subslide"
    }
   },
   "source": [
    "can be written as:"
   ]
  },
  {
   "cell_type": "code",
   "execution_count": 34,
   "id": "cffa35c0",
   "metadata": {
    "slideshow": {
     "slide_type": "slide"
    }
   },
   "outputs": [
    {
     "data": {
      "text/plain": [
       "[0, 1, 4, 9, 16, 25, 36, 49, 64, 81]"
      ]
     },
     "execution_count": 34,
     "metadata": {},
     "output_type": "execute_result"
    }
   ],
   "source": [
    "squares = [x**2 for x in range(10)]\n",
    "squares"
   ]
  },
  {
   "cell_type": "markdown",
   "id": "c381fcf8",
   "metadata": {
    "slideshow": {
     "slide_type": "slide"
    }
   },
   "source": [
    "#### Conditions\n",
    "An optional condition can be appended to select only those elements that satisfy a condition:"
   ]
  },
  {
   "cell_type": "code",
   "execution_count": 36,
   "id": "e3a7abeb",
   "metadata": {},
   "outputs": [
    {
     "data": {
      "text/plain": [
       "[[1, 1], [2, 4], [4, 16], [5, 25], [7, 49], [8, 64]]"
      ]
     },
     "execution_count": 36,
     "metadata": {},
     "output_type": "execute_result"
    }
   ],
   "source": [
    "[[x, x**2] for x in range(10) if x % 3 != 0]"
   ]
  },
  {
   "cell_type": "code",
   "execution_count": 35,
   "id": "51f4ca04",
   "metadata": {},
   "outputs": [
    {
     "data": {
      "text/plain": [
       "[3, 5, 10]"
      ]
     },
     "execution_count": 35,
     "metadata": {},
     "output_type": "execute_result"
    }
   ],
   "source": [
    "words = [\"KSR\", \"Hallo\", \"Romanshorn\"]\n",
    "[len(x) for x in words]"
   ]
  },
  {
   "cell_type": "markdown",
   "id": "2bdd253b",
   "metadata": {},
   "source": [
    "### Nested Comprehensions"
   ]
  },
  {
   "cell_type": "code",
   "execution_count": 3,
   "id": "4dfe3286",
   "metadata": {},
   "outputs": [
    {
     "data": {
      "text/plain": [
       "[3, 5]"
      ]
     },
     "execution_count": 3,
     "metadata": {},
     "output_type": "execute_result"
    }
   ],
   "source": [
    "cand = 15\n",
    "[d for d in range(2, cand) if cand % d == 0]"
   ]
  },
  {
   "cell_type": "code",
   "execution_count": null,
   "id": "bef6425f",
   "metadata": {},
   "outputs": [],
   "source": [
    "[cand for cand in range(2, 100) if len([d for d in range(2, cand) if cand % d == 0]) == 0]"
   ]
  },
  {
   "cell_type": "code",
   "execution_count": 38,
   "id": "98e6794c",
   "metadata": {},
   "outputs": [
    {
     "data": {
      "text/plain": [
       "3"
      ]
     },
     "execution_count": 38,
     "metadata": {},
     "output_type": "execute_result"
    }
   ],
   "source": [
    "towns = ['Romanshorn', 11556, 'Amriswil', 14313, 'Arbon', 15459, 'Weinfelden', 11893, 'Frauenfeld', 26093, 'Kreuzlingen', 22788, 'Egnach', 4897]\n",
    "\n",
    "\n",
    "sum(towns[1::2])\n",
    "\n",
    "\n",
    "\"foobar\".index('b')"
   ]
  }
 ],
 "metadata": {
  "kernelspec": {
   "display_name": ".venv (3.13.2)",
   "language": "python",
   "name": "python3"
  },
  "language_info": {
   "codemirror_mode": {
    "name": "ipython",
    "version": 3
   },
   "file_extension": ".py",
   "mimetype": "text/x-python",
   "name": "python",
   "nbconvert_exporter": "python",
   "pygments_lexer": "ipython3",
   "version": "3.13.2"
  }
 },
 "nbformat": 4,
 "nbformat_minor": 5
}
