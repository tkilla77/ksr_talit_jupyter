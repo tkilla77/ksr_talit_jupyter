{
 "cells": [
  {
   "cell_type": "markdown",
   "id": "d7ef0879",
   "metadata": {},
   "source": [
    "# List Comprehensions\n",
    "\n",
    "[List Comprehensions auf docs.python.org](https://docs.python.org/3/tutorial/datastructures.html#list-comprehensions)"
   ]
  },
  {
   "cell_type": "code",
   "execution_count": null,
   "id": "c08e5516",
   "metadata": {},
   "outputs": [],
   "source": [
    "[x*2 for x in range(20)]"
   ]
  }
 ],
 "metadata": {
  "kernelspec": {
   "display_name": ".venv (3.13.2)",
   "language": "python",
   "name": "python3"
  },
  "language_info": {
   "name": "python",
   "version": "3.13.2"
  }
 },
 "nbformat": 4,
 "nbformat_minor": 5
}
